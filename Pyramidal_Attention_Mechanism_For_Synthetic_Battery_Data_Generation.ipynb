{
  "nbformat": 4,
  "nbformat_minor": 0,
  "metadata": {
    "colab": {
      "name": "Pyramidal-Attention-Mechanism-For-Synthetic-Battery-Data-Generation.ipynb",
      "provenance": [],
      "collapsed_sections": [],
      "authorship_tag": "ABX9TyNn+dwOtCcMy5HJeW+edfsA",
      "include_colab_link": true
    },
    "kernelspec": {
      "name": "python3",
      "display_name": "Python 3"
    },
    "language_info": {
      "name": "python"
    },
    "accelerator": "GPU"
  },
  "cells": [
    {
      "cell_type": "markdown",
      "metadata": {
        "id": "view-in-github",
        "colab_type": "text"
      },
      "source": [
        "<a href=\"https://colab.research.google.com/github/vageeshmaiya/Pyramidal-Attention-Mechanism-For-Synthetic-Battery-Data-Generation-/blob/main/Pyramidal_Attention_Mechanism_For_Synthetic_Battery_Data_Generation.ipynb\" target=\"_parent\"><img src=\"https://colab.research.google.com/assets/colab-badge.svg\" alt=\"Open In Colab\"/></a>"
      ]
    },
    {
      "cell_type": "markdown",
      "source": [
        "# Pyramidal-Attention-Mechanism-For-Synthetic-Battery-Data-Generation"
      ],
      "metadata": {
        "id": "jFsY2ndsubCm"
      }
    },
    {
      "cell_type": "markdown",
      "source": [
        "#### **Note**\n",
        "\n",
        "Set the runtime to GPU before running the code."
      ],
      "metadata": {
        "id": "WW75mLdmutKI"
      }
    },
    {
      "cell_type": "markdown",
      "source": [
        "##### **Steps to set the runtime to GPU**:\n",
        "1. Click on the `Runtime` option displayed on the menu above.\n",
        "2. Click on the `Change runtime type` option\n",
        "3. Under `Hardware acclerators` choose GPU(if not already set) and click save."
      ],
      "metadata": {
        "id": "oaG3p_wQuw79"
      }
    },
    {
      "cell_type": "markdown",
      "source": [
        "### **1. Mounting the drive**"
      ],
      "metadata": {
        "id": "F15z7S3Lu299"
      }
    },
    {
      "cell_type": "code",
      "execution_count": 1,
      "metadata": {
        "colab": {
          "base_uri": "https://localhost:8080/"
        },
        "id": "Oaw8H6-GuRLM",
        "outputId": "cb950379-35a0-4d4b-b13e-faf328dcae4e"
      },
      "outputs": [
        {
          "output_type": "stream",
          "name": "stdout",
          "text": [
            "Drive already mounted at /content/drive; to attempt to forcibly remount, call drive.mount(\"/content/drive\", force_remount=True).\n"
          ]
        }
      ],
      "source": [
        "from google.colab import drive\n",
        "drive.mount('/content/drive')"
      ]
    },
    {
      "cell_type": "markdown",
      "source": [
        "### **2. Changing Directory path**"
      ],
      "metadata": {
        "id": "a8s77G1PvAAG"
      }
    },
    {
      "cell_type": "markdown",
      "source": [
        "##### **Steps To Follow**\n",
        "\n",
        "1. Once the drive has been mounted go to the folder icon visible on the left hand side.\n",
        "\n",
        "2. Click on the drive folder.\n",
        "\n",
        "3. There find the folder containing the `long_range_main.py` file.\n",
        "\n",
        "4. Right click on the folder and select the copy path option.\n",
        "\n",
        "5. Make sure to copy and paste the path of the folder containing the `long_range_main.py` file in the code below. \n",
        "\n",
        "6. The path of the folder in the code below is: `/content/drive/MyDrive/Pyraformer-master`"
      ],
      "metadata": {
        "id": "xpFq8cxQvDGj"
      }
    },
    {
      "cell_type": "code",
      "source": [
        "%cd /content/drive/MyDrive/Pyraformer-master\n",
        "!ls"
      ],
      "metadata": {
        "colab": {
          "base_uri": "https://localhost:8080/"
        },
        "id": "XYRuFdF2vCdG",
        "outputId": "f298ac77-a6c4-4c5e-91e8-f217f8a3542e"
      },
      "execution_count": 2,
      "outputs": [
        {
          "output_type": "stream",
          "name": "stdout",
          "text": [
            "/content/drive/MyDrive/Pyraformer-master\n",
            "'Copy of data_loader.py'   models\t\t requirements.txt\n",
            " data\t\t\t   preprocess_elect.py\t results\n",
            " data_loader.py\t\t   preprocess_flow.py\t scripts\n",
            " img\t\t\t   preprocess_wind.py\t simulate_sin.py\n",
            " LEGAL.md\t\t   __pycache__\t\t single_step_main.py\n",
            " LICENSE\t\t   pyraformer\t\t utils\n",
            " long_range_main.py\t   README.md\n"
          ]
        }
      ]
    },
    {
      "cell_type": "markdown",
      "source": [
        "### **3. Installing Requirements**\n",
        "\n",
        "Once the dependencies are installed restart the runtime"
      ],
      "metadata": {
        "id": "ptf7Uyv1vfGd"
      }
    },
    {
      "cell_type": "code",
      "source": [
        "pip install -r requirements.txt"
      ],
      "metadata": {
        "colab": {
          "base_uri": "https://localhost:8080/"
        },
        "id": "hgBtks5ovaUm",
        "outputId": "e2abb927-69bf-4f1c-9e49-3fdb396df1e5"
      },
      "execution_count": 3,
      "outputs": [
        {
          "output_type": "stream",
          "name": "stdout",
          "text": [
            "Requirement already satisfied: absl-py==0.14.1 in /usr/local/lib/python3.7/dist-packages (from -r requirements.txt (line 1)) (0.14.1)\n",
            "Requirement already satisfied: axial-positional-embedding==0.2.1 in /usr/local/lib/python3.7/dist-packages (from -r requirements.txt (line 3)) (0.2.1)\n",
            "Requirement already satisfied: bcrypt==3.2.0 in /usr/local/lib/python3.7/dist-packages (from -r requirements.txt (line 4)) (3.2.0)\n",
            "Requirement already satisfied: cachetools==4.2.4 in /usr/local/lib/python3.7/dist-packages (from -r requirements.txt (line 5)) (4.2.4)\n",
            "Requirement already satisfied: certifi==2021.5.30 in /usr/local/lib/python3.7/dist-packages (from -r requirements.txt (line 6)) (2021.5.30)\n",
            "Requirement already satisfied: cffi==1.14.6 in /usr/local/lib/python3.7/dist-packages (from -r requirements.txt (line 7)) (1.14.6)\n",
            "Requirement already satisfied: charset-normalizer==2.0.6 in /usr/local/lib/python3.7/dist-packages (from -r requirements.txt (line 8)) (2.0.6)\n",
            "Requirement already satisfied: cryptography==3.4.8 in /usr/local/lib/python3.7/dist-packages (from -r requirements.txt (line 12)) (3.4.8)\n",
            "Requirement already satisfied: cycler==0.10.0 in /usr/local/lib/python3.7/dist-packages (from -r requirements.txt (line 13)) (0.10.0)\n",
            "Requirement already satisfied: Cython==3.0.0a9 in /usr/local/lib/python3.7/dist-packages (from -r requirements.txt (line 14)) (3.0.0a9)\n",
            "Requirement already satisfied: einops==0.3.2 in /usr/local/lib/python3.7/dist-packages (from -r requirements.txt (line 15)) (0.3.2)\n",
            "Requirement already satisfied: fbm==0.3.0 in /usr/local/lib/python3.7/dist-packages (from -r requirements.txt (line 16)) (0.3.0)\n",
            "Requirement already satisfied: google-auth==1.35.0 in /usr/local/lib/python3.7/dist-packages (from -r requirements.txt (line 17)) (1.35.0)\n",
            "Requirement already satisfied: google-auth-oauthlib==0.4.6 in /usr/local/lib/python3.7/dist-packages (from -r requirements.txt (line 18)) (0.4.6)\n",
            "Requirement already satisfied: grpcio==1.41.0 in /usr/local/lib/python3.7/dist-packages (from -r requirements.txt (line 19)) (1.41.0)\n",
            "Requirement already satisfied: idna==3.2 in /usr/local/lib/python3.7/dist-packages (from -r requirements.txt (line 20)) (3.2)\n",
            "Requirement already satisfied: imageio==2.9.0 in /usr/local/lib/python3.7/dist-packages (from -r requirements.txt (line 21)) (2.9.0)\n",
            "Requirement already satisfied: importlib-metadata==4.8.1 in /usr/local/lib/python3.7/dist-packages (from -r requirements.txt (line 22)) (4.8.1)\n",
            "Requirement already satisfied: joblib==1.1.0 in /usr/local/lib/python3.7/dist-packages (from -r requirements.txt (line 23)) (1.1.0)\n",
            "Requirement already satisfied: json-tricks==3.15.5 in /usr/local/lib/python3.7/dist-packages (from -r requirements.txt (line 24)) (3.15.5)\n",
            "Requirement already satisfied: kiwisolver==1.3.2 in /usr/local/lib/python3.7/dist-packages (from -r requirements.txt (line 25)) (1.3.2)\n",
            "Requirement already satisfied: local-attention==1.4.3 in /usr/local/lib/python3.7/dist-packages (from -r requirements.txt (line 26)) (1.4.3)\n",
            "Requirement already satisfied: Markdown==3.3.4 in /usr/local/lib/python3.7/dist-packages (from -r requirements.txt (line 27)) (3.3.4)\n",
            "Requirement already satisfied: matplotlib==3.4.3 in /usr/local/lib/python3.7/dist-packages (from -r requirements.txt (line 28)) (3.4.3)\n",
            "Requirement already satisfied: mkl-fft==1.3.0 in /usr/local/lib/python3.7/dist-packages (from -r requirements.txt (line 29)) (1.3.0)\n",
            "Requirement already satisfied: mkl-random==1.2.2 in /usr/local/lib/python3.7/dist-packages (from -r requirements.txt (line 30)) (1.2.2)\n",
            "Requirement already satisfied: mkl-service==2.4.0 in /usr/local/lib/python3.7/dist-packages (from -r requirements.txt (line 31)) (2.4.0)\n",
            "Requirement already satisfied: munkres==1.1.4 in /usr/local/lib/python3.7/dist-packages (from -r requirements.txt (line 32)) (1.1.4)\n",
            "Requirement already satisfied: numpy in /usr/local/lib/python3.7/dist-packages (from -r requirements.txt (line 33)) (1.21.6)\n",
            "Requirement already satisfied: oauthlib==3.1.1 in /usr/local/lib/python3.7/dist-packages (from -r requirements.txt (line 34)) (3.1.1)\n",
            "Requirement already satisfied: opencv-python==4.5.3.56 in /usr/local/lib/python3.7/dist-packages (from -r requirements.txt (line 36)) (4.5.3.56)\n",
            "Requirement already satisfied: packaging==21.0 in /usr/local/lib/python3.7/dist-packages (from -r requirements.txt (line 37)) (21.0)\n",
            "Requirement already satisfied: pandas==1.3.3 in /usr/local/lib/python3.7/dist-packages (from -r requirements.txt (line 38)) (1.3.3)\n",
            "Requirement already satisfied: paramiko==2.7.2 in /usr/local/lib/python3.7/dist-packages (from -r requirements.txt (line 39)) (2.7.2)\n",
            "Requirement already satisfied: product-key-memory==0.1.10 in /usr/local/lib/python3.7/dist-packages (from -r requirements.txt (line 41)) (0.1.10)\n",
            "Requirement already satisfied: protobuf==3.18.0 in /usr/local/lib/python3.7/dist-packages (from -r requirements.txt (line 42)) (3.18.0)\n",
            "Requirement already satisfied: pyasn1==0.4.8 in /usr/local/lib/python3.7/dist-packages (from -r requirements.txt (line 43)) (0.4.8)\n",
            "Requirement already satisfied: pyasn1-modules==0.2.8 in /usr/local/lib/python3.7/dist-packages (from -r requirements.txt (line 44)) (0.2.8)\n",
            "Requirement already satisfied: pycocotools==2.0 in /usr/local/lib/python3.7/dist-packages (from -r requirements.txt (line 45)) (2.0.0)\n",
            "Requirement already satisfied: pycparser==2.20 in /usr/local/lib/python3.7/dist-packages (from -r requirements.txt (line 46)) (2.20)\n",
            "Requirement already satisfied: PyNaCl==1.4.0 in /usr/local/lib/python3.7/dist-packages (from -r requirements.txt (line 47)) (1.4.0)\n",
            "Requirement already satisfied: pynvml==11.4.1 in /usr/local/lib/python3.7/dist-packages (from -r requirements.txt (line 48)) (11.4.1)\n",
            "Requirement already satisfied: pyparsing==3.0.0rc1 in /usr/local/lib/python3.7/dist-packages (from -r requirements.txt (line 49)) (3.0.0rc1)\n",
            "Requirement already satisfied: python-dateutil==2.8.2 in /usr/local/lib/python3.7/dist-packages (from -r requirements.txt (line 50)) (2.8.2)\n",
            "Requirement already satisfied: pytorch-msssim==0.2.1 in /usr/local/lib/python3.7/dist-packages (from -r requirements.txt (line 51)) (0.2.1)\n",
            "Requirement already satisfied: pytz==2021.1 in /usr/local/lib/python3.7/dist-packages (from -r requirements.txt (line 52)) (2021.1)\n",
            "Requirement already satisfied: PyYAML==5.4.1 in /usr/local/lib/python3.7/dist-packages (from -r requirements.txt (line 53)) (5.4.1)\n",
            "Requirement already satisfied: reformer-pytorch==1.4.3 in /usr/local/lib/python3.7/dist-packages (from -r requirements.txt (line 54)) (1.4.3)\n",
            "Requirement already satisfied: requests==2.26.0 in /usr/local/lib/python3.7/dist-packages (from -r requirements.txt (line 55)) (2.26.0)\n",
            "Requirement already satisfied: requests-oauthlib==1.3.0 in /usr/local/lib/python3.7/dist-packages (from -r requirements.txt (line 56)) (1.3.0)\n",
            "Requirement already satisfied: rsa==4.7.2 in /usr/local/lib/python3.7/dist-packages (from -r requirements.txt (line 57)) (4.7.2)\n",
            "Requirement already satisfied: scikit-learn==1.0.2 in /usr/local/lib/python3.7/dist-packages (from -r requirements.txt (line 58)) (1.0.2)\n",
            "Requirement already satisfied: scipy==1.5.4 in /usr/local/lib/python3.7/dist-packages (from -r requirements.txt (line 59)) (1.5.4)\n",
            "Requirement already satisfied: setuptools-scm==6.3.2 in /usr/local/lib/python3.7/dist-packages (from -r requirements.txt (line 60)) (6.3.2)\n",
            "Requirement already satisfied: sklearn==0.0 in /usr/local/lib/python3.7/dist-packages (from -r requirements.txt (line 62)) (0.0)\n",
            "Requirement already satisfied: tensorboard==2.6.0 in /usr/local/lib/python3.7/dist-packages (from -r requirements.txt (line 63)) (2.6.0)\n",
            "Requirement already satisfied: tensorboard-data-server==0.6.1 in /usr/local/lib/python3.7/dist-packages (from -r requirements.txt (line 64)) (0.6.1)\n",
            "Requirement already satisfied: tensorboard-plugin-wit==1.8.0 in /usr/local/lib/python3.7/dist-packages (from -r requirements.txt (line 65)) (1.8.0)\n",
            "Requirement already satisfied: tensorboardX==2.4 in /usr/local/lib/python3.7/dist-packages (from -r requirements.txt (line 66)) (2.4)\n",
            "Requirement already satisfied: threadpoolctl==3.0.0 in /usr/local/lib/python3.7/dist-packages (from -r requirements.txt (line 67)) (3.0.0)\n",
            "Requirement already satisfied: timm==0.4.12 in /usr/local/lib/python3.7/dist-packages (from -r requirements.txt (line 68)) (0.4.12)\n",
            "Requirement already satisfied: tomli==1.2.1 in /usr/local/lib/python3.7/dist-packages (from -r requirements.txt (line 69)) (1.2.1)\n",
            "Requirement already satisfied: torch==1.8.0 in /usr/local/lib/python3.7/dist-packages (from -r requirements.txt (line 70)) (1.8.0)\n",
            "Requirement already satisfied: torchvision==0.9.0 in /usr/local/lib/python3.7/dist-packages (from -r requirements.txt (line 71)) (0.9.0)\n",
            "Requirement already satisfied: tqdm==4.62.2 in /usr/local/lib/python3.7/dist-packages (from -r requirements.txt (line 72)) (4.62.2)\n",
            "Requirement already satisfied: typing-extensions==3.10.0.2 in /usr/local/lib/python3.7/dist-packages (from -r requirements.txt (line 73)) (3.10.0.2)\n",
            "Requirement already satisfied: urllib3==1.26.7 in /usr/local/lib/python3.7/dist-packages (from -r requirements.txt (line 74)) (1.26.7)\n",
            "Requirement already satisfied: Werkzeug==2.0.2 in /usr/local/lib/python3.7/dist-packages (from -r requirements.txt (line 75)) (2.0.2)\n",
            "Requirement already satisfied: yacs==0.1.8 in /usr/local/lib/python3.7/dist-packages (from -r requirements.txt (line 76)) (0.1.8)\n",
            "Requirement already satisfied: zipp==3.6.0 in /usr/local/lib/python3.7/dist-packages (from -r requirements.txt (line 77)) (3.6.0)\n",
            "Requirement already satisfied: six in /usr/local/lib/python3.7/dist-packages (from absl-py==0.14.1->-r requirements.txt (line 1)) (1.15.0)\n",
            "Requirement already satisfied: setuptools>=40.3.0 in /usr/local/lib/python3.7/dist-packages (from google-auth==1.35.0->-r requirements.txt (line 17)) (57.4.0)\n",
            "Requirement already satisfied: pillow in /usr/local/lib/python3.7/dist-packages (from imageio==2.9.0->-r requirements.txt (line 21)) (7.1.2)\n",
            "Requirement already satisfied: dpcpp_cpp_rt in /usr/local/lib/python3.7/dist-packages (from mkl-fft==1.3.0->-r requirements.txt (line 29)) (2022.1.0)\n",
            "Requirement already satisfied: mkl in /usr/local/lib/python3.7/dist-packages (from mkl-fft==1.3.0->-r requirements.txt (line 29)) (2019.0)\n",
            "Requirement already satisfied: wheel>=0.26 in /usr/local/lib/python3.7/dist-packages (from tensorboard==2.6.0->-r requirements.txt (line 63)) (0.37.1)\n",
            "Requirement already satisfied: intel-opencl-rt==2022.1.0 in /usr/local/lib/python3.7/dist-packages (from dpcpp_cpp_rt->mkl-fft==1.3.0->-r requirements.txt (line 29)) (2022.1.0)\n",
            "Requirement already satisfied: intel-cmplr-lic-rt==2022.1.0 in /usr/local/lib/python3.7/dist-packages (from dpcpp_cpp_rt->mkl-fft==1.3.0->-r requirements.txt (line 29)) (2022.1.0)\n",
            "Requirement already satisfied: intel-openmp==2022.1.0 in /usr/local/lib/python3.7/dist-packages (from dpcpp_cpp_rt->mkl-fft==1.3.0->-r requirements.txt (line 29)) (2022.1.0)\n",
            "Requirement already satisfied: intel-cmplr-lib-rt==2022.1.0 in /usr/local/lib/python3.7/dist-packages (from dpcpp_cpp_rt->mkl-fft==1.3.0->-r requirements.txt (line 29)) (2022.1.0)\n",
            "Requirement already satisfied: tbb==2021.* in /usr/local/lib/python3.7/dist-packages (from intel-opencl-rt==2022.1.0->dpcpp_cpp_rt->mkl-fft==1.3.0->-r requirements.txt (line 29)) (2021.6.0)\n"
          ]
        }
      ]
    },
    {
      "cell_type": "markdown",
      "source": [
        "### **4. Installing other pre-requisites**"
      ],
      "metadata": {
        "id": "FLdkmcjdxRmb"
      }
    },
    {
      "cell_type": "code",
      "source": [
        "pip install torch==1.8.0+cu111 torchvision==0.9.0+cu111 torchaudio==0.8.0 -f https://download.pytorch.org/whl/torch_stable.html"
      ],
      "metadata": {
        "colab": {
          "base_uri": "https://localhost:8080/"
        },
        "id": "D2vK44xsxgRH",
        "outputId": "81505906-67bc-4122-d8e7-76724f15aa8b"
      },
      "execution_count": 4,
      "outputs": [
        {
          "output_type": "stream",
          "name": "stdout",
          "text": [
            "Looking in links: https://download.pytorch.org/whl/torch_stable.html\n",
            "Collecting torch==1.8.0+cu111\n",
            "  Downloading https://download.pytorch.org/whl/cu111/torch-1.8.0%2Bcu111-cp37-cp37m-linux_x86_64.whl (1982.2 MB)\n",
            "\u001b[K     |█████████████▌                  | 834.1 MB 49.0 MB/s eta 0:00:24tcmalloc: large alloc 1147494400 bytes == 0x39772000 @  0x7f88d32a7615 0x592b76 0x4df71e 0x59afff 0x515655 0x549576 0x593fce 0x548ae9 0x51566f 0x549576 0x593fce 0x548ae9 0x5127f1 0x598e3b 0x511f68 0x598e3b 0x511f68 0x598e3b 0x511f68 0x4bc98a 0x532e76 0x594b72 0x515600 0x549576 0x593fce 0x548ae9 0x5127f1 0x549576 0x593fce 0x5118f8 0x593dd7\n",
            "\u001b[K     |█████████████████               | 1055.7 MB 1.6 MB/s eta 0:09:40tcmalloc: large alloc 1434370048 bytes == 0x7ddc8000 @  0x7f88d32a7615 0x592b76 0x4df71e 0x59afff 0x515655 0x549576 0x593fce 0x548ae9 0x51566f 0x549576 0x593fce 0x548ae9 0x5127f1 0x598e3b 0x511f68 0x598e3b 0x511f68 0x598e3b 0x511f68 0x4bc98a 0x532e76 0x594b72 0x515600 0x549576 0x593fce 0x548ae9 0x5127f1 0x549576 0x593fce 0x5118f8 0x593dd7\n",
            "\u001b[K     |█████████████████████▋          | 1336.2 MB 1.4 MB/s eta 0:07:46tcmalloc: large alloc 1792966656 bytes == 0x2bfa000 @  0x7f88d32a7615 0x592b76 0x4df71e 0x59afff 0x515655 0x549576 0x593fce 0x548ae9 0x51566f 0x549576 0x593fce 0x548ae9 0x5127f1 0x598e3b 0x511f68 0x598e3b 0x511f68 0x598e3b 0x511f68 0x4bc98a 0x532e76 0x594b72 0x515600 0x549576 0x593fce 0x548ae9 0x5127f1 0x549576 0x593fce 0x5118f8 0x593dd7\n",
            "\u001b[K     |███████████████████████████▎    | 1691.1 MB 1.4 MB/s eta 0:03:31tcmalloc: large alloc 2241208320 bytes == 0x6d9e2000 @  0x7f88d32a7615 0x592b76 0x4df71e 0x59afff 0x515655 0x549576 0x593fce 0x548ae9 0x51566f 0x549576 0x593fce 0x548ae9 0x5127f1 0x598e3b 0x511f68 0x598e3b 0x511f68 0x598e3b 0x511f68 0x4bc98a 0x532e76 0x594b72 0x515600 0x549576 0x593fce 0x548ae9 0x5127f1 0x549576 0x593fce 0x5118f8 0x593dd7\n",
            "\u001b[K     |████████████████████████████████| 1982.2 MB 1.3 MB/s eta 0:00:01tcmalloc: large alloc 1982251008 bytes == 0xf3344000 @  0x7f88d32a61e7 0x4a3940 0x4a39cc 0x592b76 0x4df71e 0x59afff 0x515655 0x549576 0x593fce 0x511e2c 0x549576 0x593fce 0x511e2c 0x549576 0x593fce 0x511e2c 0x549576 0x593fce 0x511e2c 0x549576 0x593fce 0x511e2c 0x593dd7 0x511e2c 0x549576 0x593fce 0x548ae9 0x5127f1 0x549576 0x593fce 0x548ae9\n",
            "tcmalloc: large alloc 2477817856 bytes == 0x1dda34000 @  0x7f88d32a7615 0x592b76 0x4df71e 0x59afff 0x515655 0x549576 0x593fce 0x511e2c 0x549576 0x593fce 0x511e2c 0x549576 0x593fce 0x511e2c 0x549576 0x593fce 0x511e2c 0x549576 0x593fce 0x511e2c 0x593dd7 0x511e2c 0x549576 0x593fce 0x548ae9 0x5127f1 0x549576 0x593fce 0x548ae9 0x5127f1 0x549576\n",
            "\u001b[K     |████████████████████████████████| 1982.2 MB 5.3 kB/s \n",
            "\u001b[?25hCollecting torchvision==0.9.0+cu111\n",
            "  Downloading https://download.pytorch.org/whl/cu111/torchvision-0.9.0%2Bcu111-cp37-cp37m-linux_x86_64.whl (17.6 MB)\n",
            "\u001b[K     |████████████████████████████████| 17.6 MB 32 kB/s \n",
            "\u001b[?25hCollecting torchaudio==0.8.0\n",
            "  Downloading torchaudio-0.8.0-cp37-cp37m-manylinux1_x86_64.whl (1.9 MB)\n",
            "\u001b[K     |████████████████████████████████| 1.9 MB 5.2 MB/s \n",
            "\u001b[?25hRequirement already satisfied: typing-extensions in /usr/local/lib/python3.7/dist-packages (from torch==1.8.0+cu111) (3.10.0.2)\n",
            "Requirement already satisfied: numpy in /usr/local/lib/python3.7/dist-packages (from torch==1.8.0+cu111) (1.21.6)\n",
            "Requirement already satisfied: pillow>=4.1.1 in /usr/local/lib/python3.7/dist-packages (from torchvision==0.9.0+cu111) (7.1.2)\n",
            "Installing collected packages: torch, torchvision, torchaudio\n",
            "  Attempting uninstall: torch\n",
            "    Found existing installation: torch 1.8.0\n",
            "    Uninstalling torch-1.8.0:\n",
            "      Successfully uninstalled torch-1.8.0\n",
            "  Attempting uninstall: torchvision\n",
            "    Found existing installation: torchvision 0.9.0\n",
            "    Uninstalling torchvision-0.9.0:\n",
            "      Successfully uninstalled torchvision-0.9.0\n",
            "  Attempting uninstall: torchaudio\n",
            "    Found existing installation: torchaudio 0.11.0+cu113\n",
            "    Uninstalling torchaudio-0.11.0+cu113:\n",
            "      Successfully uninstalled torchaudio-0.11.0+cu113\n",
            "\u001b[31mERROR: pip's dependency resolver does not currently take into account all the packages that are installed. This behaviour is the source of the following dependency conflicts.\n",
            "torchtext 0.12.0 requires torch==1.11.0, but you have torch 1.8.0+cu111 which is incompatible.\u001b[0m\n",
            "Successfully installed torch-1.8.0+cu111 torchaudio-0.8.0 torchvision-0.9.0+cu111\n"
          ]
        }
      ]
    },
    {
      "cell_type": "code",
      "source": [
        "import torch\n",
        "torch.cuda.empty_cache()"
      ],
      "metadata": {
        "id": "2jcfAh1PxqAW"
      },
      "execution_count": 5,
      "outputs": []
    },
    {
      "cell_type": "code",
      "source": [
        "def force_cudnn_initialization():\n",
        "    s = 32\n",
        "    dev = torch.device('cuda')\n",
        "    torch.nn.functional.conv2d(torch.zeros(s, s, s, s, device=dev), torch.zeros(s, s, s, s, device=dev))"
      ],
      "metadata": {
        "id": "3kUIQ2XfxwA-"
      },
      "execution_count": 6,
      "outputs": []
    },
    {
      "cell_type": "code",
      "source": [
        "force_cudnn_initialization()"
      ],
      "metadata": {
        "id": "XNlCUT8Vx1LE"
      },
      "execution_count": 7,
      "outputs": []
    },
    {
      "cell_type": "markdown",
      "source": [
        "### **5. Running the main code**"
      ],
      "metadata": {
        "id": "uLdV77bW1OfN"
      }
    },
    {
      "cell_type": "code",
      "source": [
        "!python -u long_range_main.py -data Battery -data_path new_data.csv -input_size 100 -predict_step 24 -n_head 6 -run_name new_data_trial_1_24"
      ],
      "metadata": {
        "colab": {
          "base_uri": "https://localhost:8080/"
        },
        "id": "48PlYzvX1ST_",
        "outputId": "2f8b9406-8c00-420d-bd71-ff63c550bd18"
      },
      "execution_count": 8,
      "outputs": [
        {
          "output_type": "stream",
          "name": "stdout",
          "text": [
            "[Info] parameters: Namespace(CSCM='Bottleneck_Construct', batch_size=32, covariate_size=4, d_bottleneck=128, d_inner_hid=512, d_k=128, d_model=512, d_v=128, data='Battery', data_path='new_data.csv', dec_in=2, decoder='FC', dropout=0.05, embed_type='DataEmbedding', enc_in=2, epoch=4, eval=False, hard_sample_mining=False, inner_size=3, input_size=100, inverse=True, iter_num=2, lr=0.0001, lr_step=0.1, model='Pyraformer', n_head=6, n_layer=4, predict_step=24, pretrain=False, root_path='./data/datasets/', run_name='new_data_trial_1_24', seq_num=1, truncate=False, use_tvm=False, window_size=[4, 4, 4])\n",
            "[Info] Number of parameters: 8837888\n",
            "train 5682\n",
            "test 1635\n",
            "[ Epoch 1 ]\n",
            "  - (Training) MSE:  0.54977elapse: 0.625 min\n",
            "test shape:(1635, 24, 2)\n",
            "Epoch 0, mse:0.08889410644769669, mae:0.20071648061275482, rmse:0.2981511354446411, mape:inf, mspe:inf\n",
            "[ Epoch 2 ]\n",
            "  - (Training) MSE:  0.22906elapse: 0.620 min\n",
            "test shape:(1635, 24, 2)\n",
            "Epoch 1, mse:0.06138443946838379, mae:0.15805761516094208, rmse:0.24775883555412292, mape:inf, mspe:inf\n",
            "[ Epoch 3 ]\n",
            "  - (Training) MSE:  0.21909elapse: 0.620 min\n",
            "test shape:(1635, 24, 2)\n",
            "Epoch 2, mse:0.0574871227145195, mae:0.15023809671401978, rmse:0.2397647202014923, mape:inf, mspe:inf\n",
            "[ Epoch 4 ]\n",
            "  - (Training) MSE:  0.22055elapse: 0.619 min\n",
            "test shape:(1635, 24, 2)\n",
            "Epoch 3, mse:0.057329706847667694, mae:0.14928653836250305, rmse:0.23943622410297394, mape:inf, mspe:inf\n",
            "Iteration best metrics: [0.057329706847667694, 0.14928653836250305, 0.23943622410297394, inf, inf]\n",
            "[Info] parameters: Namespace(CSCM='Bottleneck_Construct', batch_size=32, covariate_size=4, d_bottleneck=128, d_inner_hid=512, d_k=128, d_model=512, d_v=128, data='Battery', data_path='new_data.csv', dec_in=2, decoder='FC', device=device(type='cuda'), dropout=0.05, embed_type='DataEmbedding', enc_in=2, epoch=4, eval=False, hard_sample_mining=False, inner_size=3, input_size=100, inverse=True, iter_num=2, lr=0.0001, lr_step=0.1, model='Pyraformer', n_head=6, n_layer=4, predict_step=24, pretrain=False, root_path='./data/datasets/', run_name='new_data_trial_1_24', seq_num=1, truncate=False, use_tvm=False, window_size=[4, 4, 4])\n",
            "[Info] Number of parameters: 8837888\n",
            "train 5682\n",
            "test 1635\n",
            "[ Epoch 1 ]\n",
            "  - (Training) MSE:  0.55866elapse: 0.618 min\n",
            "test shape:(1635, 24, 2)\n",
            "Epoch 0, mse:0.107449971139431, mae:0.21533070504665375, rmse:0.3277956247329712, mape:inf, mspe:inf\n",
            "[ Epoch 2 ]\n",
            "  - (Training) MSE:  0.22739elapse: 0.619 min\n",
            "test shape:(1635, 24, 2)\n",
            "Epoch 1, mse:0.0732010081410408, mae:0.17800067365169525, rmse:0.27055683732032776, mape:inf, mspe:inf\n",
            "[ Epoch 3 ]\n",
            "  - (Training) MSE:  0.21586elapse: 0.619 min\n",
            "test shape:(1635, 24, 2)\n",
            "Epoch 2, mse:0.06887353211641312, mae:0.1721765100955963, rmse:0.2624376714229584, mape:inf, mspe:inf\n",
            "[ Epoch 4 ]\n",
            "  - (Training) MSE:  0.21600elapse: 0.618 min\n",
            "test shape:(1635, 24, 2)\n",
            "Epoch 3, mse:0.06937465071678162, mae:0.1723320484161377, rmse:0.2633906900882721, mape:inf, mspe:inf\n",
            "Iteration best metrics: [0.06887353211641312, 0.1721765100955963, 0.2624376714229584, inf, inf]\n",
            "Average Metrics: [0.06310162 0.16073152 0.25093695        inf        inf]\n"
          ]
        }
      ]
    },
    {
      "cell_type": "markdown",
      "source": [
        "### **6. Plotting the result**"
      ],
      "metadata": {
        "id": "VXFZtZU51tYn"
      }
    },
    {
      "cell_type": "markdown",
      "source": [
        "##### **Steps to load the output prediction and ground truth files**\n",
        "\n",
        "1. Once the main code is run a new folder named `results` will be created(if not present previously) in the same location where `long_range_main.py` script is present.\n",
        "\n",
        "2. The output obtained on execution of the main code is stored in the `results` folder under the given `run_name`.\n",
        "\n",
        "3. The model prediction is in the form of a `npy` file with the name `pred.npy` and the ground truth under the name of `true.npy`. \n",
        "\n",
        "4. Copy the path of the folder containing the obtained output files and paste it in the code below.\n",
        "\n",
        "5. The path of the path of output pickel file considered below is : `/content/drive/MyDrive/Pyraformer-master/results/new_data_trial_1_24`"
      ],
      "metadata": {
        "id": "EqC9YhIA3nB9"
      }
    },
    {
      "cell_type": "code",
      "source": [
        "%cd /content/drive/MyDrive/Pyraformer-master/results/new_data_trial_1_24\n",
        "!ls"
      ],
      "metadata": {
        "colab": {
          "base_uri": "https://localhost:8080/"
        },
        "id": "TjE5ej_h2JMQ",
        "outputId": "4b63b0dc-830a-424c-907c-7e48189a55d6"
      },
      "execution_count": 9,
      "outputs": [
        {
          "output_type": "stream",
          "name": "stdout",
          "text": [
            "/content/drive/MyDrive/Pyraformer-master/results/new_data_trial_1_24\n",
            "pred.npy\t\t\t    pyraformer_new_data_voltage_24.pdf\n",
            "pyraformer_new_data_current_24.pdf  true.npy\n"
          ]
        }
      ]
    },
    {
      "cell_type": "code",
      "source": [
        "# Importing Requirements for plotting\n",
        "import numpy as np\n",
        "import matplotlib.pyplot as plt\n",
        "\n",
        "\n",
        "preds = np.load('pred.npy') # Predicted parameters\n",
        "trues = np.load('true.npy') # Ground truth parameters"
      ],
      "metadata": {
        "id": "eOQT9PUO2Zhl"
      },
      "execution_count": 10,
      "outputs": []
    },
    {
      "cell_type": "code",
      "source": [
        "plt.figure()\n",
        "# The below range plots the first 500 data points to get the whole plot use trues[:,1,-1] and preds[:,1,-1] \n",
        "# The prediction is multi variate. In order to get the prediction and ground truth values for other parameters change the value of the last dimension(i.e from -1 to -2 or -3 depending on the number of parameters)\n",
        "plt.plot(trues[:500, 1,-1], label='GroundTruth') \n",
        "plt.plot(preds[:500, 1,-1], label='Prediction')\n",
        "plt.yticks([-3,-2,-1,0,1,2,3,4,5]) # Y-axis markings (can be varied depending on the requirement)\n",
        "plt.xlabel('Index')\n",
        "plt.ylabel('Current (A)') # Can be changed depending on the parameter\n",
        "plt.legend()\n",
        "#plt.savefig(\"pyraformer_new_data_current_24.pdf\",bbox_inches = \"tight\")\n",
        "plt.show()"
      ],
      "metadata": {
        "colab": {
          "base_uri": "https://localhost:8080/",
          "height": 283
        },
        "id": "AOA3Rvlz2cpt",
        "outputId": "50c69384-39e8-4a94-def0-259119f9d824"
      },
      "execution_count": 12,
      "outputs": [
        {
          "output_type": "display_data",
          "data": {
            "text/plain": [
              "<Figure size 432x288 with 1 Axes>"
            ],
            "image/png": "[encoded data removed]"
          },
          "metadata": {
            "needs_background": "light"
          }
        }
      ]
    },
    {
      "cell_type": "markdown",
      "source": [
        "##### To obtain the path where the prediction plots are saved in drive run the codeline below"
      ],
      "metadata": {
        "id": "S0qj1QSA6M1k"
      }
    },
    {
      "cell_type": "code",
      "source": [
        "pwd"
      ],
      "metadata": {
        "colab": {
          "base_uri": "https://localhost:8080/",
          "height": 35
        },
        "id": "8W495uux6Nc1",
        "outputId": "83af4d52-8ceb-4b30-aef3-8c8a98c45be2"
      },
      "execution_count": 13,
      "outputs": [
        {
          "output_type": "execute_result",
          "data": {
            "text/plain": [
              "'/content/drive/MyDrive/Pyraformer-master/results/new_data_trial_1_24'"
            ],
            "application/vnd.google.colaboratory.intrinsic+json": {
              "type": "string"
            }
          },
          "metadata": {},
          "execution_count": 13
        }
      ]
    },
    {
      "cell_type": "markdown",
      "source": [
        "### **7. Plotting the error values**"
      ],
      "metadata": {
        "id": "GlD6RlQU6bTt"
      }
    },
    {
      "cell_type": "code",
      "source": [
        "horizon = [24,48,96,168,288,408]"
      ],
      "metadata": {
        "id": "FWHQLw_L6aLB"
      },
      "execution_count": 14,
      "outputs": []
    },
    {
      "cell_type": "code",
      "source": [
        "mse_pyra_new = [0.053826343,0.070434295,0.075149275,0.09186027,0.11441722,0.12505269]\n",
        "mse_inf_new = [0.049139474,0.051740177,0.06996837,0.12015246,0.206039,0.22042903] # the values have been obtained by running the informer model seperately\n",
        "mse_depts_new = [0.120170821,0.099118476,0.08627694,0.158170865,0.227797882,0.282535197] # the values have been obtained by running the depts model seperately"
      ],
      "metadata": {
        "id": "rN4pg08L6sT8"
      },
      "execution_count": 15,
      "outputs": []
    },
    {
      "cell_type": "code",
      "source": [
        "plt.plot(horizon,mse_pyra_new,marker='o',label=\"Pyraformer_model\")\n",
        "plt.plot(horizon,mse_inf_new,marker='X',label=\"Informer_model\")\n",
        "plt.plot(horizon,mse_depts_new,marker='s',label=\"DEPTS_model\")\n",
        "plt.xticks(horizon)\n",
        "plt.xlabel(\"Horizon\")\n",
        "plt.ylabel(\"MSE\")\n",
        "plt.legend()\n",
        "#plt.savefig(\"mse_vs_horizon_new_data.pdf\",bbox_inches=\"tight\")"
      ],
      "metadata": {
        "colab": {
          "base_uri": "https://localhost:8080/",
          "height": 296
        },
        "id": "VWwTqwV26seQ",
        "outputId": "57855465-86e9-4471-e233-eeb12b5d233c"
      },
      "execution_count": 16,
      "outputs": [
        {
          "output_type": "execute_result",
          "data": {
            "text/plain": [
              "<matplotlib.legend.Legend at 0x7fadfac57e50>"
            ]
          },
          "metadata": {},
          "execution_count": 16
        },
        {
          "output_type": "display_data",
          "data": {
            "text/plain": [
              "<Figure size 432x288 with 1 Axes>"
            ],
            "image/png": "[encoded data removed]"
          },
          "metadata": {
            "needs_background": "light"
          }
        }
      ]
    }
  ]
}